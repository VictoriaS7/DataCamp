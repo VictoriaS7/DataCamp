{
 "cells": [
  {
   "cell_type": "markdown",
   "metadata": {},
   "source": [
    "# Dropping duplicate data\n",
    "Duplicate data causes a variety of problems. From the point of view of performance, they use up unnecessary amounts of memory and cause unneeded calculations to be performed when processing data. In addition, they can also bias any analysis results.\n",
    "\n",
    "A dataset consisting of the performance of songs on the Billboard charts has been pre-loaded into a DataFrame called billboard. Check out its columns in the IPython Shell. Your job in this exercise is to subset this DataFrame and then drop all duplicate rows."
   ]
  },
  {
   "cell_type": "markdown",
   "metadata": {},
   "source": [
    "## Instructions\n",
    "Create a new DataFrame called tracks that contains the following columns from billboard: 'year', 'artist', 'track', and 'time'.\n",
    "\n",
    "Print the info of tracks. This has been done for you.\n",
    "\n",
    "Drop duplicate rows from tracks using the .drop_duplicates() method. Save the result to tracks_no_duplicates.\n",
    "\n",
    "Print the info of tracks_no_duplicates. This has been done for you, so hit 'Submit Answer' to see the results!"
   ]
  },
  {
   "cell_type": "code",
   "execution_count": 1,
   "metadata": {
    "collapsed": true
   },
   "outputs": [],
   "source": [
    "import pandas as pd"
   ]
  },
  {
   "cell_type": "code",
   "execution_count": 2,
   "metadata": {},
   "outputs": [
    {
     "data": {
      "text/plain": [
       "\"\\nbillboard = pd.read_csv('billboard')\\n\\n# Create the new DataFrame: tracks\\ntracks = billboard[['year', 'artist', 'track', 'time']]\\n\\n# Print info of tracks\\nprint(tracks.info())\\n\\n# Drop the duplicates: tracks_no_duplicates\\ntracks_no_duplicates = tracks.drop_duplicates()\\n\\n# Print info of tracks\\nprint(tracks_no_duplicates.info()\\n\""
      ]
     },
     "execution_count": 2,
     "metadata": {},
     "output_type": "execute_result"
    }
   ],
   "source": [
    "#can't find the dataset\n",
    "\"\"\"\n",
    "billboard = pd.read_csv('billboard')\n",
    "\n",
    "# Create the new DataFrame: tracks\n",
    "tracks = billboard[['year', 'artist', 'track', 'time']]\n",
    "\n",
    "# Print info of tracks\n",
    "print(tracks.info())\n",
    "\n",
    "# Drop the duplicates: tracks_no_duplicates\n",
    "tracks_no_duplicates = tracks.drop_duplicates()\n",
    "\n",
    "# Print info of tracks\n",
    "print(tracks_no_duplicates.info()\n",
    "\"\"\""
   ]
  },
  {
   "cell_type": "code",
   "execution_count": 3,
   "metadata": {},
   "outputs": [
    {
     "data": {
      "text/plain": [
       "\"\\n<class 'pandas.core.frame.DataFrame'>\\nRangeIndex: 24092 entries, 0 to 24091\\nData columns (total 4 columns):\\nyear      24092 non-null int64\\nartist    24092 non-null object\\ntrack     24092 non-null object\\ntime      24092 non-null object\\ndtypes: int64(1), object(3)\\nmemory usage: 753.0+ KB\\nNone\\n<class 'pandas.core.frame.DataFrame'>\\nInt64Index: 317 entries, 0 to 316\\nData columns (total 4 columns):\\nyear      317 non-null int64\\nartist    317 non-null object\\ntrack     317 non-null object\\ntime      317 non-null object\\ndtypes: int64(1), object(3)\\nmemory usage: 12.4+ KB\\nNone\\n\\n<script.py> output:\\n    <class 'pandas.core.frame.DataFrame'>\\n    RangeIndex: 24092 entries, 0 to 24091\\n    Data columns (total 4 columns):\\n    year      24092 non-null int64\\n    artist    24092 non-null object\\n    track     24092 non-null object\\n    time      24092 non-null object\\n    dtypes: int64(1), object(3)\\n    memory usage: 753.0+ KB\\n    None\\n    <class 'pandas.core.frame.DataFrame'>\\n    Int64Index: 317 entries, 0 to 316\\n    Data columns (total 4 columns):\\n    year      317 non-null int64\\n    artist    317 non-null object\\n    track     317 non-null object\\n    time      317 non-null object\\n    dtypes: int64(1), object(3)\\n    memory usage: 12.4+ KB\\n    None\\n\""
      ]
     },
     "execution_count": 3,
     "metadata": {},
     "output_type": "execute_result"
    }
   ],
   "source": [
    "#output:\n",
    "\"\"\"\n",
    "<class 'pandas.core.frame.DataFrame'>\n",
    "RangeIndex: 24092 entries, 0 to 24091\n",
    "Data columns (total 4 columns):\n",
    "year      24092 non-null int64\n",
    "artist    24092 non-null object\n",
    "track     24092 non-null object\n",
    "time      24092 non-null object\n",
    "dtypes: int64(1), object(3)\n",
    "memory usage: 753.0+ KB\n",
    "None\n",
    "<class 'pandas.core.frame.DataFrame'>\n",
    "Int64Index: 317 entries, 0 to 316\n",
    "Data columns (total 4 columns):\n",
    "year      317 non-null int64\n",
    "artist    317 non-null object\n",
    "track     317 non-null object\n",
    "time      317 non-null object\n",
    "dtypes: int64(1), object(3)\n",
    "memory usage: 12.4+ KB\n",
    "None\n",
    "\n",
    "<script.py> output:\n",
    "    <class 'pandas.core.frame.DataFrame'>\n",
    "    RangeIndex: 24092 entries, 0 to 24091\n",
    "    Data columns (total 4 columns):\n",
    "    year      24092 non-null int64\n",
    "    artist    24092 non-null object\n",
    "    track     24092 non-null object\n",
    "    time      24092 non-null object\n",
    "    dtypes: int64(1), object(3)\n",
    "    memory usage: 753.0+ KB\n",
    "    None\n",
    "    <class 'pandas.core.frame.DataFrame'>\n",
    "    Int64Index: 317 entries, 0 to 316\n",
    "    Data columns (total 4 columns):\n",
    "    year      317 non-null int64\n",
    "    artist    317 non-null object\n",
    "    track     317 non-null object\n",
    "    time      317 non-null object\n",
    "    dtypes: int64(1), object(3)\n",
    "    memory usage: 12.4+ KB\n",
    "    None\n",
    "\"\"\"\n",
    "#After dropping duplicates, the DataFrame has gone from having 24092 entries to only 317!"
   ]
  },
  {
   "cell_type": "code",
   "execution_count": null,
   "metadata": {
    "collapsed": true
   },
   "outputs": [],
   "source": []
  }
 ],
 "metadata": {
  "kernelspec": {
   "display_name": "Python 3",
   "language": "python",
   "name": "python3"
  },
  "language_info": {
   "codemirror_mode": {
    "name": "ipython",
    "version": 3
   },
   "file_extension": ".py",
   "mimetype": "text/x-python",
   "name": "python",
   "nbconvert_exporter": "python",
   "pygments_lexer": "ipython3",
   "version": "3.6.3"
  }
 },
 "nbformat": 4,
 "nbformat_minor": 2
}
